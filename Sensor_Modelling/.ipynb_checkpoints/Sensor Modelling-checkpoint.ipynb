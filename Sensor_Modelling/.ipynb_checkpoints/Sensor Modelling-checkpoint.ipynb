{
 "cells": [
  {
   "cell_type": "code",
   "execution_count": 1,
   "metadata": {},
   "outputs": [],
   "source": [
    "%matplotlib inline\n",
    "import numpy as np\n",
    "import pandas as pd\n",
    "from matplotlib import pyplot as plt\n",
    "import matplotlib.image as mpimg"
   ]
  },
  {
   "cell_type": "code",
   "execution_count": 2,
   "metadata": {},
   "outputs": [],
   "source": [
    "#Frequently Used Definitions\n",
    "pi = np.pi \n",
    "cos = np.cos \n",
    "sin = np.sin\n",
    "acos = np.arccos\n",
    "degrees = np.degrees\n",
    "radians = np.radians"
   ]
  },
  {
   "cell_type": "code",
   "execution_count": 3,
   "metadata": {},
   "outputs": [],
   "source": [
    "# Variables\n",
    "Magnitude_Limit = 6\n",
    "\n",
    "RA_hr = 5.603559 #Hrs\n",
    "Dec = -1.201917 #Degrees\n",
    "Roll = 0.0 #Degrees\n",
    "\n",
    "FOV_Length = 20.0 #Degrees\n",
    "FOV_Width = 15.0 #Degrees\n",
    "\n",
    "CMOS_Length = 2000 #Pixels\n",
    "CMOS_Width = 1504 #Pixels\n",
    "\n",
    "focal_length = 40 #mm\n",
    "pixel_size = 0.007 #mm"
   ]
  },
  {
   "cell_type": "code",
   "execution_count": 4,
   "metadata": {},
   "outputs": [],
   "source": [
    "# Derived Variables\n",
    "RA = RA_hr * 360 / 24 #In Degrees\n",
    "Circular_FOV = np.sqrt(FOV_Length ** 2 + FOV_Width ** 2)"
   ]
  },
  {
   "cell_type": "code",
   "execution_count": 13,
   "metadata": {},
   "outputs": [],
   "source": [
    "# The Star Catalogue being used\n",
    "CATALOGUE = pd.read_csv(\"Preprocessing/Simulation_HYG.csv\")\n",
    "# StarID: The database primary key from a larger \"master database\" of stars\n",
    "# Mag: The star's apparent visual magnitude\n",
    "# RA, Dec: The star's right ascension and declination, for epoch 2000.0 (Unit: RA - hrs; Dec - degrees)\n",
    "CATALOGUE.sort_values('Mag', inplace = True)"
   ]
  },
  {
   "cell_type": "code",
   "execution_count": 14,
   "metadata": {},
   "outputs": [],
   "source": [
    "def angularDistance(row, col_names):\n",
    "    '''\n",
    "    Computes the angular distance (in degrees) between two points on the celestial \n",
    "    sphere with a given right-ascension and declination values\n",
    "    \n",
    "    <Formula> - http://spiff.rit.edu/classes/phys373/lectures/radec/radec.html\n",
    "    \n",
    "    Parameters\n",
    "    ----------\n",
    "    row : pd.Dataframe - series\n",
    "        Input right-ascension in (hrs) and declination in (degrees) format\n",
    "        \n",
    "    col_names: list of strings\n",
    "        The names of the columns on which the function will be applied \n",
    "        ### SHOULD FOLLOW THIS CONVENTION\n",
    "        c1 = right-ascension_1; c2 = right-ascension_2\n",
    "        c3 = declination_1; c4 = declination_2\n",
    "          \n",
    "    Returns\n",
    "    -------\n",
    "    y : pd.Dataframe - series\n",
    "        The corresponding angular distance in degree value.\n",
    "    '''\n",
    "    # Unpack column names\n",
    "    c1, c2, c3, c4 = col_names\n",
    "    # Assert datatypes\n",
    "    assert type(c1) == str and type(c2) == str and type(c3) == str and type(c4) == str, 'TypeError: input should be str'\n",
    "      \n",
    "    \n",
    "    # Units of right-ascension is in (hours) format\n",
    "    alpha1, alpha2 = radians(15*row[c1]), radians(15*row[c2])\n",
    "    \n",
    "    # Units of declination is in (degrees) format\n",
    "    delta1, delta2 = radians(row[c3]), radians(row[c4])\n",
    "    \n",
    "    # Given Formula\n",
    "    temp = cos(pi/2 - delta1)*cos(pi/2 - delta2) + sin(pi/2 - delta1)*sin(pi/2 - delta2)*cos(alpha1 - alpha2) \n",
    "    \n",
    "    return np.degrees(acos(temp))"
   ]
  },
  {
   "cell_type": "code",
   "execution_count": 15,
   "metadata": {},
   "outputs": [],
   "source": [
    "def generateImageDataframe(CATALOGUE, ref_ra, ref_dec, ref_ang_dist, mag_limit = 6, ra_hrs = True):\n",
    "    '''\n",
    "    Generates a dataframe consisting of stars that lie within the circular boundary\n",
    "    for a given max angular distance value for the generation of a star-image.\n",
    "    The max magnitude limit that the stars possess can be set manually (Default = 6 Mv)\n",
    "    \n",
    "    Parameters\n",
    "    ----------\n",
    "    CATALOGUE : pd.Dataframe\n",
    "        The 'master' star catalogue on which the function works\n",
    "        \n",
    "    ref_ra : floating-point number\n",
    "        Input reference right-ascension value\n",
    "        \n",
    "    ref_dec : floating-point number\n",
    "        Input reference declination value\n",
    "        \n",
    "    ref_ang_dist : floating-point number\n",
    "        Input the circular field-of-view (FOV), the radius of which defines the conical\n",
    "        boundary within which the stars from the catalogue should lie in\n",
    "        \n",
    "    mag_limit : floating-point number\n",
    "        Input the maximum value of stars' magnitude that should be visible within with \n",
    "        circular FOV\n",
    "        \n",
    "    ra_hrs : boolean, default = True\n",
    "        Input is True if unit of right ascension is in hour format\n",
    "        Input is False if unit of right ascension is in degrees format \n",
    "                \n",
    "        <Formula> - https://sciencing.com/calculate-longitude-right-ascension-6742230.html \n",
    "        \n",
    "    Returns\n",
    "    -------\n",
    "    IMG_DF : pd.Dataframe\n",
    "        This returns the dataframe consisting of stars that lie inside the specified circular FOV \n",
    "        that is sorted w.r.t the angular distance column in ascending order\n",
    "    '''\n",
    "    if ra_hrs == False:\n",
    "        # Conversion of right-ascension from degrees to hours\n",
    "        ref_ra = ref_ra/15\n",
    "    \n",
    "    # Generates image dataframe \n",
    "    IMG_DF = pd.DataFrame(columns=['Ref_RA', 'Ref_Dec', 'Star_ID', 'RA', 'Dec', 'Mag'])\n",
    "    \n",
    "    # Restricts stars to specified upper magnitude limit\n",
    "    temp = CATALOGUE[CATALOGUE.Mag <= mag_limit]\n",
    "    \n",
    "    # Total number of rows in <temp>\n",
    "    size = temp.StarID.shape[0]\n",
    "    \n",
    "    # Counter for rows in <IMG_DF>\n",
    "    row_count = 0    \n",
    "    for i in range(size):\n",
    "        \n",
    "        # Extracts data from (i - th) row of <temp>\n",
    "        s_id, ra, dec, mag = temp.iloc[i] \n",
    "        \n",
    "        # Copies data into (row_count - th) row of <IMG_DF>\n",
    "        IMG_DF.loc[row_count] = [ref_ra] + [ref_dec] + [s_id] + [ra] + [dec] + [mag]\n",
    "        \n",
    "        # Increment row_count\n",
    "        row_count = row_count + 1\n",
    "        \n",
    "        \n",
    "    # Apply angularDistance> function on 'Ang_Dist' column of <IMG_DF> \n",
    "    cols = ['Ref_RA', 'RA', 'Ref_Dec', 'Dec']\n",
    "    IMG_DF['Ang_Dist'] = IMG_DF.apply(angularDistance, axis=1, col_names = cols)\n",
    "    \n",
    "    # Sort <IMG_DF> based on 'Ang_Dist' column\n",
    "    IMG_DF.sort_values('Ang_Dist', inplace = True, ascending = True)\n",
    "    \n",
    "    # Remove entries with angular distance in <IMG_DF> greater than that of <ref_ang_dist>\n",
    "    IMG_DF = IMG_DF[IMG_DF.Ang_Dist <= ref_ang_dist]\n",
    "    \n",
    "    IMG_DF.sort_values('Mag', inplace = True, ascending = True)\n",
    "    \n",
    "    return IMG_DF.drop([\"Ang_Dist\"], axis = 1)"
   ]
  },
  {
   "cell_type": "code",
   "execution_count": 16,
   "metadata": {},
   "outputs": [],
   "source": [
    "'''IMG_Data = generateImageDataframe(CATALOGUE, RA, Dec, Circular_FOV, Magnitude_Limit, ra_hrs = False)\n",
    "plt.figure()\n",
    "plt.scatter(-IMG_Data.RA * 15, IMG_Data.Dec, c = IMG_Data.Mag )\n",
    "plt.plot(-IMG_Data.iloc[0].Ref_RA * 15, IMG_Data.iloc[0].Ref_Dec, 'ro', label = 'center')\n",
    "plt.legend(loc='upper right')\n",
    "#plt.xlim(4, 7)\n",
    "plt.colorbar()\n",
    "plt.grid()''';"
   ]
  },
  {
   "cell_type": "code",
   "execution_count": 17,
   "metadata": {},
   "outputs": [],
   "source": [
    "def _3DVectorCoordinates(row):\n",
    "    '''\n",
    "    Computes the Coordinates of each star in the image frame from the Right-Ascension\n",
    "    (RA) & Declination (Dec) value in the dataframe - <IMG_DF>, and the Roll Input, \n",
    "    which is zero by default.\n",
    "    \n",
    "    Parameters\n",
    "    ----------\n",
    "    row : pd.Dataframe - series\n",
    "        Input RA/Dec in degrees from the <IMG_DF> dataframe\n",
    "        \n",
    "    roll : floating-point number\n",
    "        Input the Roll Value in degrees\n",
    "          \n",
    "    Returns\n",
    "    -------\n",
    "    y : pd.Dataframe - series\n",
    "        The corresponding vectors in the Celestial Frame and the Image Frame wrt center of the lens\n",
    "    '''\n",
    "    alpha = radians(row['Ref_RA'] * 15)\n",
    "    delta = radians(row['Ref_Dec'])\n",
    "    phi = radians(row['Roll'])\n",
    "    Mag = row['Mag']\n",
    "    \n",
    "    alpha_0 = radians(row['RA'] * 15)\n",
    "    delta_0 = radians(row['Dec'])\n",
    "    \n",
    "    z_bar = cos(alpha_0) * cos(delta_0)\n",
    "    x_bar = sin(alpha_0) * cos(delta_0)\n",
    "    y_bar = sin(delta_0)\n",
    "    \n",
    "    x_1 = np.array([x_bar, y_bar, z_bar])\n",
    "\n",
    "    M = np.array([\n",
    "    [  cos(alpha) * cos(phi) + sin(alpha) * sin(delta) * sin(phi),\n",
    "       sin(phi) * cos(delta),\n",
    "     - sin(alpha) * cos(phi) + cos(alpha) * sin(delta) * sin(phi)],\n",
    "    [- cos(alpha) * sin(phi) + sin(alpha) * sin(delta) * cos(phi),\n",
    "       cos(phi) * cos(delta),\n",
    "       sin(alpha) * sin(phi) + cos(alpha) * sin(delta) * cos(phi)],\n",
    "    [  sin(alpha) * cos(delta),\n",
    "     - sin(delta),\n",
    "       cos(alpha) * cos(delta)]\n",
    "    ])\n",
    "    \n",
    "    x = np.dot(x_1, np.linalg.inv(M))\n",
    "    \n",
    "    return x[0], x[1], x[2], Mag"
   ]
  },
  {
   "cell_type": "code",
   "execution_count": 18,
   "metadata": {},
   "outputs": [],
   "source": [
    "def ImageFrameCoordinates(row, focal_length = 40):\n",
    "    '''\n",
    "    \n",
    "    Computes the Coordinates of each star in the image frame from the Right-Ascension\n",
    "    (RA) & Declination (Dec) value in the dataframe - <IMG_DF>, and the Roll Input, \n",
    "    which is zero by default.\n",
    "    \n",
    "    Parameters\n",
    "    ----------\n",
    "    row : pd.Dataframe - series\n",
    "        Input x, y, z cordinates of vectors of stars wrt the center of the lens from the <IMG_DF> dataframe\n",
    "          \n",
    "    Returns\n",
    "    -------\n",
    "    y : pd.Dataframe - series\n",
    "        The corresponding coordinates in the Image Frame\n",
    "    '''\n",
    "    x_0 = row['x']\n",
    "    y_0 = row['y']\n",
    "    z_0 = row['z']\n",
    "    Mag = row['Mag']\n",
    "    \n",
    "    x = - x_0 * focal_length / z_0\n",
    "    y = - y_0 * focal_length / z_0\n",
    "    \n",
    "    return x, y, Mag"
   ]
  },
  {
   "cell_type": "code",
   "execution_count": 19,
   "metadata": {},
   "outputs": [],
   "source": [
    "# Main Code Part 1\n",
    "IMG_Data = generateImageDataframe(CATALOGUE, RA, Dec, Circular_FOV, Magnitude_Limit, ra_hrs = False)\n",
    "IMG_Data['Roll'] = Roll\n",
    "IMG_Data2 = IMG_Data.apply(_3DVectorCoordinates, result_type = 'expand', axis=1).rename(columns = {0 : \"x\", 1 : \"y\", 2 : \"z\", 3 : \"Mag\"})\n",
    "IMG_Data3 = IMG_Data2.apply(ImageFrameCoordinates, result_type = 'expand', axis=1).rename(columns = {0 : \"x\", 1 : \"y\", 2 : \"Mag\"})\n",
    "IMG_Data3;"
   ]
  },
  {
   "cell_type": "code",
   "execution_count": 20,
   "metadata": {},
   "outputs": [],
   "source": [
    "# Variables 2\n",
    "f_noise_max = 30\n",
    "f_noise_min = 0\n",
    "\n",
    "sigma = 2.5\n",
    "check_radius = 20"
   ]
  },
  {
   "cell_type": "code",
   "execution_count": 21,
   "metadata": {},
   "outputs": [],
   "source": [
    "def f(x, y, H, sigma, x_0, y_0):\n",
    "    return H * np.exp(-((x - x_0) ** 2 + (y - y_0) ** 2) / (2 * sigma ** 2)) / (2 * np.pi * sigma ** 2)"
   ]
  },
  {
   "cell_type": "code",
   "execution_count": 22,
   "metadata": {},
   "outputs": [],
   "source": [
    "def H(M, k_1 = 5 * 10 ** 4, k_2 = 0.92):\n",
    "    return k_1 * np.exp(- k_2 * M)"
   ]
  },
  {
   "cell_type": "code",
   "execution_count": 23,
   "metadata": {},
   "outputs": [],
   "source": [
    "def r(f_n_max = f_noise_max, f_n_min = f_noise_min):\n",
    "    return f_n_min + (f_n_max - f_n_min) * np.random.random()"
   ]
  },
  {
   "cell_type": "code",
   "execution_count": 24,
   "metadata": {},
   "outputs": [],
   "source": [
    "# Main Code 2\n",
    "IMG_Data4 = IMG_Data3.copy()\n",
    "IMG_Data4 = IMG_Data4[IMG_Data4['x'] < pixel_size * CMOS_Length / 2]\n",
    "IMG_Data4 = IMG_Data4[IMG_Data4['x'] > - pixel_size * CMOS_Length / 2]\n",
    "IMG_Data4 = IMG_Data4[IMG_Data4['y'] < pixel_size * CMOS_Width / 2]\n",
    "IMG_Data4 = IMG_Data4[IMG_Data4['y'] > - pixel_size * CMOS_Width / 2]\n",
    "\n",
    "Image2 = np.zeros((CMOS_Width, CMOS_Length))\n",
    "n = IMG_Data4.shape[0]\n",
    "\n",
    "y = IMG_Data4.iloc[:,0].values / pixel_size\n",
    "x = IMG_Data4.iloc[:,1].values / pixel_size\n",
    "b = IMG_Data4.iloc[:,2].values"
   ]
  },
  {
   "cell_type": "code",
   "execution_count": 25,
   "metadata": {
    "scrolled": false
   },
   "outputs": [
    {
     "data": {
      "text/plain": [
       "\"plt.figure(dpi = 100)\\nplt.scatter(y, -x, c = b)\\nplt.xlim(- CMOS_Length / 2, CMOS_Length / 2)\\nplt.ylim(- CMOS_Width / 2, CMOS_Width / 2);\\nplt.plot(0, 0, 'ro')\\nplt.colorbar()\\n#plt.axis('off');\""
      ]
     },
     "execution_count": 25,
     "metadata": {},
     "output_type": "execute_result"
    }
   ],
   "source": [
    "'''plt.figure(dpi = 100)\n",
    "plt.scatter(y, -x, c = b)\n",
    "plt.xlim(- CMOS_Length / 2, CMOS_Length / 2)\n",
    "plt.ylim(- CMOS_Width / 2, CMOS_Width / 2);\n",
    "plt.plot(0, 0, 'ro')\n",
    "plt.colorbar()\n",
    "#plt.axis('off');'''"
   ]
  },
  {
   "cell_type": "code",
   "execution_count": 26,
   "metadata": {},
   "outputs": [
    {
     "ename": "KeyboardInterrupt",
     "evalue": "",
     "output_type": "error",
     "traceback": [
      "\u001b[1;31m---------------------------------------------------------------------------\u001b[0m",
      "\u001b[1;31mKeyboardInterrupt\u001b[0m                         Traceback (most recent call last)",
      "\u001b[1;32m<ipython-input-26-0a12da77265a>\u001b[0m in \u001b[0;36m<module>\u001b[1;34m\u001b[0m\n\u001b[0;32m      2\u001b[0m     \u001b[1;32mfor\u001b[0m \u001b[0mj\u001b[0m \u001b[1;32min\u001b[0m \u001b[0mnp\u001b[0m\u001b[1;33m.\u001b[0m\u001b[0marange\u001b[0m\u001b[1;33m(\u001b[0m\u001b[0mCMOS_Width\u001b[0m\u001b[1;33m)\u001b[0m\u001b[1;33m:\u001b[0m\u001b[1;33m\u001b[0m\u001b[1;33m\u001b[0m\u001b[0m\n\u001b[0;32m      3\u001b[0m         \u001b[1;32mfor\u001b[0m \u001b[0mk\u001b[0m \u001b[1;32min\u001b[0m \u001b[0mnp\u001b[0m\u001b[1;33m.\u001b[0m\u001b[0marange\u001b[0m\u001b[1;33m(\u001b[0m\u001b[0mCMOS_Length\u001b[0m\u001b[1;33m)\u001b[0m\u001b[1;33m:\u001b[0m\u001b[1;33m\u001b[0m\u001b[1;33m\u001b[0m\u001b[0m\n\u001b[1;32m----> 4\u001b[1;33m             \u001b[1;32mif\u001b[0m \u001b[0mabs\u001b[0m\u001b[1;33m(\u001b[0m\u001b[1;33m(\u001b[0m\u001b[0mx\u001b[0m\u001b[1;33m[\u001b[0m\u001b[0mi\u001b[0m\u001b[1;33m]\u001b[0m \u001b[1;33m+\u001b[0m \u001b[0mCMOS_Width\u001b[0m \u001b[1;33m/\u001b[0m \u001b[1;36m2\u001b[0m\u001b[1;33m)\u001b[0m \u001b[1;33m+\u001b[0m \u001b[1;33m(\u001b[0m\u001b[0my\u001b[0m\u001b[1;33m[\u001b[0m\u001b[0mi\u001b[0m\u001b[1;33m]\u001b[0m \u001b[1;33m+\u001b[0m \u001b[0mCMOS_Length\u001b[0m \u001b[1;33m/\u001b[0m \u001b[1;36m2\u001b[0m\u001b[1;33m)\u001b[0m \u001b[1;33m-\u001b[0m \u001b[0mj\u001b[0m \u001b[1;33m-\u001b[0m \u001b[0mk\u001b[0m\u001b[1;33m)\u001b[0m \u001b[1;33m<\u001b[0m \u001b[1;36m20\u001b[0m\u001b[1;33m:\u001b[0m\u001b[1;33m\u001b[0m\u001b[1;33m\u001b[0m\u001b[0m\n\u001b[0m\u001b[0;32m      5\u001b[0m                 \u001b[0mImage2\u001b[0m\u001b[1;33m[\u001b[0m\u001b[0mj\u001b[0m\u001b[1;33m]\u001b[0m\u001b[1;33m[\u001b[0m\u001b[0mk\u001b[0m\u001b[1;33m]\u001b[0m \u001b[1;33m=\u001b[0m \u001b[0mImage2\u001b[0m\u001b[1;33m[\u001b[0m\u001b[0mj\u001b[0m\u001b[1;33m]\u001b[0m\u001b[1;33m[\u001b[0m\u001b[0mk\u001b[0m\u001b[1;33m]\u001b[0m \u001b[1;33m+\u001b[0m \u001b[0mf\u001b[0m\u001b[1;33m(\u001b[0m\u001b[0mj\u001b[0m\u001b[1;33m,\u001b[0m \u001b[0mk\u001b[0m\u001b[1;33m,\u001b[0m \u001b[0mH\u001b[0m\u001b[1;33m(\u001b[0m\u001b[0mb\u001b[0m\u001b[1;33m[\u001b[0m\u001b[0mi\u001b[0m\u001b[1;33m]\u001b[0m\u001b[1;33m)\u001b[0m\u001b[1;33m,\u001b[0m \u001b[0msigma\u001b[0m\u001b[1;33m,\u001b[0m \u001b[1;33m(\u001b[0m\u001b[0mx\u001b[0m\u001b[1;33m[\u001b[0m\u001b[0mi\u001b[0m\u001b[1;33m]\u001b[0m \u001b[1;33m+\u001b[0m \u001b[0mCMOS_Width\u001b[0m \u001b[1;33m/\u001b[0m \u001b[1;36m2\u001b[0m\u001b[1;33m)\u001b[0m\u001b[1;33m,\u001b[0m \u001b[1;33m(\u001b[0m\u001b[0my\u001b[0m\u001b[1;33m[\u001b[0m\u001b[0mi\u001b[0m\u001b[1;33m]\u001b[0m \u001b[1;33m+\u001b[0m \u001b[0mCMOS_Length\u001b[0m \u001b[1;33m/\u001b[0m \u001b[1;36m2\u001b[0m\u001b[1;33m)\u001b[0m\u001b[1;33m)\u001b[0m\u001b[1;33m\u001b[0m\u001b[1;33m\u001b[0m\u001b[0m\n",
      "\u001b[1;31mKeyboardInterrupt\u001b[0m: "
     ]
    }
   ],
   "source": [
    "for i in np.arange(n):\n",
    "    for j in np.arange(CMOS_Width):\n",
    "        for k in np.arange(CMOS_Length):\n",
    "            if abs((x[i] + CMOS_Width / 2) + (y[i] + CMOS_Length / 2) - j - k) < 20:\n",
    "                Image2[j][k] = Image2[j][k] + f(j, k, H(b[i]), sigma, (x[i] + CMOS_Width / 2), (y[i] + CMOS_Length / 2))"
   ]
  },
  {
   "cell_type": "code",
   "execution_count": null,
   "metadata": {},
   "outputs": [],
   "source": [
    "Image = Image2.copy()\n",
    "for j in np.arange(Image.shape[0]):\n",
    "    for k in np.arange(Image.shape[1]):\n",
    "        Image[j][k] = Image[j][k] + r()"
   ]
  },
  {
   "cell_type": "code",
   "execution_count": null,
   "metadata": {},
   "outputs": [],
   "source": [
    "plt.imshow(Image, cmap = 'gray', vmax = 255);"
   ]
  },
  {
   "cell_type": "code",
   "execution_count": 579,
   "metadata": {},
   "outputs": [],
   "source": [
    "mpimg.imsave(\"Orion with noise.png\", Image, cmap='gray', vmax = 255)\n",
    "mpimg.imsave(\"Orion without noise.png\", Image2, cmap='gray', vmax = 255)"
   ]
  },
  {
   "cell_type": "code",
   "execution_count": 580,
   "metadata": {},
   "outputs": [],
   "source": [
    "IMG_Data5 = IMG_Data4 / [0.007, 0.007, 1]\n",
    "IMG_Data5.drop([\"Mag\"], axis = 1)\n",
    "IMG_Data5.to_csv('coordinates.csv')"
   ]
  }
 ],
 "metadata": {
  "kernelspec": {
   "display_name": "Python 3",
   "language": "python",
   "name": "python3"
  },
  "language_info": {
   "codemirror_mode": {
    "name": "ipython",
    "version": 3
   },
   "file_extension": ".py",
   "mimetype": "text/x-python",
   "name": "python",
   "nbconvert_exporter": "python",
   "pygments_lexer": "ipython3",
   "version": "3.7.6"
  }
 },
 "nbformat": 4,
 "nbformat_minor": 2
}
